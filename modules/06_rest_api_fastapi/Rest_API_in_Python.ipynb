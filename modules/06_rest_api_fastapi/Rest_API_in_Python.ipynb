{
 "cells": [
  {
   "cell_type": "markdown",
   "id": "3530c3ef",
   "metadata": {},
   "source": [
    "# Rest API's  in Python (with a Focus on FastAPI)\n",
    "\n",
    "A REST API (also known as RESTful API) is an application programming interface (API or web API) that conforms to the constraints of REST architectural style and allows for interaction with RESTful web services. REST stands for representational state transfer and was created by computer scientist Roy Fielding. (source [RedHat](https://www.redhat.com/en/topics/api/what-is-a-rest-api)).\n",
    "\n",
    "At a basic level, a REST API is a simple and standardized way for different software applications to communicate over the internet using HTTP methods (like GET, POST, PUT, DELETE). It enables applications to access, create, update, and delete resources (like data objects) in a structured and predictable manner. REST APIs make it easy for developers to build and integrate applications, share data, and add functionality across different platforms.\n",
    "\n",
    "If you want to create a REST API in Python, your main options are:\n",
    "\n",
    "* Flask: A web application framework based on the Werkzeg WSGI toolkit and jinja2 templating; can be used for full stack development or API development. https://flask.palletsprojects.com/en/2.2.x/\n",
    "* Django Rest Framework: a toolkit built off of the web application framework Django specifically intended for Rest API development. https://www.django-rest-framework.org/\n",
    "* FastAPI: A web framework specifically designed for building APIs. https://fastapi.tiangolo.com/\n",
    "* Tornado: I do not have as much experience with this framework. Upon research, it looks like it is faster than Django and Flask, but still lacks the speed of FastAPI. The framework is built using non-blocking network I/O, which makes it good at handling a large number of simultaneous connections. https://www.tornadoweb.org/en/stable/\n",
    "\n",
    "Today, we will be focusing on FastAPI because, well, it is fast. Very fast. FastAPI is currently the fastest Python API framework, competing with the likes of golang (see [source](https://www.techempower.com/benchmarks/#section=test&runid=7464e520-0dc2-473d-bd34-dbdfd7e85911&hw=cl&test=query&l=hra0hr-2yn)). In addition to that, FastAPI is fairly flexible and easy to use as we will see.\n"
   ]
  },
  {
   "cell_type": "markdown",
   "id": "db4a22c5",
   "metadata": {},
   "source": [
    "## Index\n",
    "\n",
    "* [Setup](#Setup)\n",
    "* [Basics](#Basics)\n",
    "* [Advanced Features](#Advanced-Features)\n",
    "* [Testing and Deployment](#Testing-and-Deployments)\n",
    "* Conclusion"
   ]
  },
  {
   "cell_type": "markdown",
   "id": "e4635587",
   "metadata": {},
   "source": [
    "## Setup\n",
    "\n",
    "In order to set up a basic FastAPI Rest API, all you have to do is run:\n",
    "\n",
    "```python\n",
    "pip install fastapi[all]\n",
    "```\n",
    "\n",
    "The above install gives us everything we need to bring up a basic instance, including `uvicorn` for bringing up the web server and `sqlalchemy` for db object management\n",
    "\n",
    "In later sections, we will be making use of dependency injection and shared database connections, so you will also need the following to create a local database:\n",
    "\n",
    "```python\n",
    "pip install aiosqlite \n",
    "```\n",
    "\n",
    "**NOTE**: These dependencies have already been added to the top level requirements.txt, so make sure you update your code dojo environment before continuing."
   ]
  },
  {
   "cell_type": "markdown",
   "id": "f2eda1d5",
   "metadata": {},
   "source": [
    "## Basics\n",
    "\n",
    "Okay, let's go over the basic REST operations, GET, POST, PUT, DELETE. \n",
    "\n",
    "One note here, it is going to be a bit tricky to show FastAPI working in a Jupyter notebook. SO, for each example, I will print the code here, then also save the code to a file in this directory so I can run each API instance from the notebook."
   ]
  },
  {
   "cell_type": "markdown",
   "id": "a1e7a0b6",
   "metadata": {},
   "source": [
    "### Methods\n",
    "\n",
    "Strictly speaking, in the original formulation of REST architecture, there are 4 available methods, GET, POST, PUT, and DELETE. However, in practice, there is an additional method we will discuss below in the context of FastAPI:\n",
    "\n",
    "\n",
    "1). **GET**: Retrieves a resource from the server. In REST, this method is used for reading data without modifying it. In FastAPI, you can define a route handler function with the @app.get() decorator:\n",
    "\n",
    "```python\n",
    "@app.get(\"/api/v1/animals/{animal_id}\")\n",
    "def read_animal(animal_id: int):\n",
    "    if animal_id in animal_cache:\n",
    "        return {\"animal\": animal_cache[animal_id].dict()}\n",
    "    else:\n",
    "        raise HTTPException(\n",
    "            status_code=400, detail=f\"Could not find animal with id: {animal_id}\"\n",
    "        )\n",
    "```\n",
    "\n",
    "2). **POST**: Creates a new resource. In REST, this method is used to add a new resource to a collection and can be defined with a route handler function using the @app.post() decorator in FastAPI:\n",
    "\n",
    "```python\n",
    "@app.post(\"/api/v1/animals/\")\n",
    "def insert_animal(animal: Animal):\n",
    "    new_id = max(animal_cache.keys() or [0])\n",
    "    animal_cache[new_id] = animal\n",
    "    return {\"animal\": animal}\n",
    "```\n",
    "\n",
    "3). **PUT**: Updates a resource by replacing it with a new version. In REST, this method is used to update an existing resource entirely and can be defined with a route handler function using the @app.put() decorator in FastAPI:\n",
    "\n",
    "```python\n",
    "@app.put(\"/api/v1/animals/{animal_id}\")\n",
    "def update_item(animal_id: int, animal: Animal):\n",
    "    if animal_id in animal_cache:\n",
    "        animal_cache[animal_id] = animal\n",
    "        return {\"animal_id\": animal_id, \"animal\": animal_cache[animal_id]}\n",
    "    else:\n",
    "        raise HTTPException(\n",
    "            status_code=400, detail=f\"Could not find animal with id: {animal_id}\"\n",
    "        )\n",
    "\n",
    "```\n",
    "\n",
    "4). **PATCH**: This is the method that was not originally included in Roy Fielding's proposal for REST architecture, but was later introduced as a partial PUT is not \"RESTful\" ([further reading](https://williamdurand.fr/2014/02/14/please-dont-patch-like-that/)). Updates a resource by modifying only specific fields. In REST, this method is used to partially update an existing resource and can be defined with a route handler function using the @app.patch() decorator in FastAPI:\n",
    "\n",
    "```python\n",
    "@app.patch(\"/api/v1/animals/{animal_id}\")\n",
    "def update_animal_name(animal_id: int, animal: AnimalName):\n",
    "    if animal_id in animal_cache:\n",
    "        animal_cache[animal_id][\"name\"] = animal.name\n",
    "        return {\"animal_id\": animal_id, \"animal\": animal_cache[animal_id]}\n",
    "    else:\n",
    "        raise HTTPException(\n",
    "            status_code=400, detail=f\"Could not find animal with id: {animal_id}\"\n",
    "        )\n",
    "```\n",
    "\n",
    "5). **DELETE**: Removes a resource. In REST, this method is specifically for removing an existing resource and can be defined with a route handler function using the @app.delete() decorator in FastAPI:\n",
    "\n",
    "```python\n",
    "@app.delete(\"/api/v1/animals/{animal_id}\")\n",
    "def delete_item(animal_id: int):\n",
    "    if animal_id in animal_cache:\n",
    "        del animal_cache[animal_id]\n",
    "        return {\"animal_id\": animal_id, \"message\": \"Animal removed\"}\n",
    "    else:\n",
    "        raise HTTPException(\n",
    "            status_code=400, detail=f\"Could not find animal with id: {animal_id}\"\n",
    "        )\n",
    "```"
   ]
  },
  {
   "cell_type": "markdown",
   "id": "b3f182e5",
   "metadata": {},
   "source": [
    "### Example One\n",
    "\n",
    "Let's look at a quick example exhibiting the methods discussed above:\n",
    "\n",
    "```python\n",
    "# example_one.py -- Runs on http://localhost:8000\n",
    "\n",
    "from fastapi import FastAPI, HTTPException\n",
    "from pydantic import BaseModel\n",
    "\n",
    "\n",
    "class Animal(BaseModel):\n",
    "    name: str\n",
    "    species: str\n",
    "    age: int\n",
    "        \n",
    "\n",
    "class AnimalName(BaseModel):\n",
    "    name: str\n",
    "        \n",
    "\n",
    "app = FastAPI()\n",
    "\n",
    "animal_cache = dict()\n",
    "\n",
    "\n",
    "@app.get(\"/\")\n",
    "def read_root():\n",
    "    return {\"message\": \"Hello, FastAPI!\"}\n",
    "\n",
    "\n",
    "@app.get(\"/api/v1/animals\")\n",
    "def read_all_animals():\n",
    "    return {\"animals\": animal_cache}\n",
    "\n",
    "\n",
    "\n",
    "@app.get(\"/api/v1/animals/{animal_id}\")\n",
    "def read_animal(animal_id: int):\n",
    "    if animal_id in animal_cache:\n",
    "        return {\"animal\": animal_cache[animal_id].dict()}\n",
    "    else:\n",
    "        raise HTTPException(\n",
    "            status_code=400, detail=f\"Could not find animal with id: {animal_id}\"\n",
    "        )\n",
    "\n",
    "\n",
    "@app.post(\"/api/v1/animals\")\n",
    "def insert_animal(animal: Animal):\n",
    "    new_id = max(animal_cache.keys() or [0])\n",
    "    animal_cache[new_id + 1] = animal\n",
    "    return {\"animal\": animal}\n",
    "\n",
    "\n",
    "@app.put(\"/api/v1/animals/{animal_id}\")\n",
    "def update_animal(animal_id: int, animal: Animal):\n",
    "    if animal_id in animal_cache:\n",
    "        animal_cache[animal_id] = animal\n",
    "        return {\"animal_id\": animal_id, \"animal\": animal_cache[animal_id]}\n",
    "    else:\n",
    "        raise HTTPException(\n",
    "            status_code=400, detail=f\"Could not find animal with id: {animal_id}\"\n",
    "        )\n",
    "        \n",
    "        \n",
    "@app.patch(\"/api/v1/animals/{animal_id}\")\n",
    "def update_animal_name(animal_id: int, animal: AnimalName):\n",
    "    if animal_id in animal_cache:\n",
    "        animal_record = animal_cache[animal_id]\n",
    "        animal_data = animal.dict(exclude_unset=True)\n",
    "        for key, value in animal_data.items():\n",
    "            setattr(animal_record, key, value)\n",
    "        animal_cache[animal_id] = animal_record\n",
    "        return {\"animal_id\": animal_id, \"animal\": animal_cache[animal_id]}\n",
    "    else:\n",
    "        raise HTTPException(\n",
    "            status_code=400, detail=f\"Could not find animal with id: {animal_id}\"\n",
    "        )\n",
    "\n",
    "\n",
    "@app.delete(\"/api/v1/animals/{animal_id}\")\n",
    "def delete_item(animal_id: int):\n",
    "    if animal_id in animal_cache:\n",
    "        del animal_cache[animal_id]\n",
    "        return {\"animal_id\": animal_id, \"message\": \"Animal removed\"}\n",
    "    else:\n",
    "        raise HTTPException(\n",
    "            status_code=400, detail=f\"Could not find animal with id: {animal_id}\"\n",
    "        )\n",
    "\n",
    "```"
   ]
  },
  {
   "cell_type": "code",
   "execution_count": 1,
   "id": "34dd1552",
   "metadata": {},
   "outputs": [],
   "source": [
    "# need to force jupyter notebooks to let me run background processes\n",
    "\n",
    "import os\n",
    "get_ipython().system = os.system"
   ]
  },
  {
   "cell_type": "code",
   "execution_count": 16,
   "id": "1dea99c3",
   "metadata": {},
   "outputs": [
    {
     "data": {
      "text/plain": [
       "0"
      ]
     },
     "execution_count": 16,
     "metadata": {},
     "output_type": "execute_result"
    }
   ],
   "source": [
    "!nohup python example_one.py > example_one.log 2>&1 &"
   ]
  },
  {
   "cell_type": "code",
   "execution_count": 3,
   "id": "3c08bdfa",
   "metadata": {},
   "outputs": [
    {
     "name": "stdout",
     "output_type": "stream",
     "text": [
      "chasehudson      19356   0.4  0.1 409610416  48784   ??  S     4:13PM   0:00.24 python example_one.py\n"
     ]
    },
    {
     "data": {
      "text/plain": [
       "0"
      ]
     },
     "execution_count": 3,
     "metadata": {},
     "output_type": "execute_result"
    }
   ],
   "source": [
    "!ps aux | grep \"python example_one\"  | grep -v grep"
   ]
  },
  {
   "cell_type": "markdown",
   "id": "30ca977a",
   "metadata": {},
   "source": [
    "#### Intereacting with an API\n",
    "\n",
    "Let's take a look at how we can call the methods above"
   ]
  },
  {
   "cell_type": "code",
   "execution_count": 4,
   "id": "b28e79c5",
   "metadata": {},
   "outputs": [
    {
     "name": "stdout",
     "output_type": "stream",
     "text": [
      "{'animals': {}}\n"
     ]
    }
   ],
   "source": [
    "import requests\n",
    "import pprint\n",
    "\n",
    "\n",
    "response = requests.get(\"http://localhost:8000/api/v1/animals\")\n",
    "pprint.pprint(response.json())"
   ]
  },
  {
   "cell_type": "code",
   "execution_count": 5,
   "id": "ac43c95e",
   "metadata": {},
   "outputs": [
    {
     "name": "stdout",
     "output_type": "stream",
     "text": [
      "{'animal': {'age': 4, 'name': 'Hamilton', 'species': 'canis lupus familiaris'}}\n"
     ]
    }
   ],
   "source": [
    "headers = {'Content-type': 'application/json'}\n",
    "dog = {\"name\": \"Hamilton\", \"age\": 4, \"species\": \"canis lupus familiaris\"}\n",
    "response = requests.post(\"http://localhost:8000/api/v1/animals\", headers=headers, json=dog)\n",
    "pprint.pprint(response.json())"
   ]
  },
  {
   "cell_type": "code",
   "execution_count": 6,
   "id": "95782eb3",
   "metadata": {},
   "outputs": [
    {
     "name": "stdout",
     "output_type": "stream",
     "text": [
      "{'animals': {'1': {'age': 4,\n",
      "                   'name': 'Hamilton',\n",
      "                   'species': 'canis lupus familiaris'}}}\n"
     ]
    }
   ],
   "source": [
    "response = requests.get(\"http://localhost:8000/api/v1/animals\")\n",
    "pprint.pprint(response.json())"
   ]
  },
  {
   "cell_type": "code",
   "execution_count": 7,
   "id": "53189a26",
   "metadata": {},
   "outputs": [
    {
     "name": "stdout",
     "output_type": "stream",
     "text": [
      "{'animal': {'age': 6, 'name': 'Cujo', 'species': 'equus asinus'}}\n"
     ]
    }
   ],
   "source": [
    "headers = {'Content-type': 'application/json'}\n",
    "donkey = {\"name\": \"Cujo\", \"age\": 6, \"species\": \"equus asinus\"}\n",
    "response = requests.post(\"http://localhost:8000/api/v1/animals\", headers=headers, json=donkey)\n",
    "pprint.pprint(response.json())"
   ]
  },
  {
   "cell_type": "code",
   "execution_count": 8,
   "id": "7d7e8913",
   "metadata": {},
   "outputs": [
    {
     "name": "stdout",
     "output_type": "stream",
     "text": [
      "{'animals': {'1': {'age': 4,\n",
      "                   'name': 'Hamilton',\n",
      "                   'species': 'canis lupus familiaris'},\n",
      "             '2': {'age': 6, 'name': 'Cujo', 'species': 'equus asinus'}}}\n"
     ]
    }
   ],
   "source": [
    "response = requests.get(\"http://localhost:8000/api/v1/animals\")\n",
    "pprint.pprint(response.json())"
   ]
  },
  {
   "cell_type": "code",
   "execution_count": 9,
   "id": "5315c174",
   "metadata": {},
   "outputs": [
    {
     "name": "stdout",
     "output_type": "stream",
     "text": [
      "{'animal': {'age': 8, 'name': 'Shadow', 'species': 'equus caballus'},\n",
      " 'animal_id': 2}\n"
     ]
    }
   ],
   "source": [
    "horse = {\"name\": \"Shadow\", \"age\": 8, \"species\": \"equus caballus\"}\n",
    "response = requests.put(\"http://localhost:8000/api/v1/animals/2\", headers=headers, json=horse)\n",
    "pprint.pprint(response.json())"
   ]
  },
  {
   "cell_type": "code",
   "execution_count": 10,
   "id": "989a15e4",
   "metadata": {},
   "outputs": [
    {
     "name": "stdout",
     "output_type": "stream",
     "text": [
      "{'animals': {'1': {'age': 4,\n",
      "                   'name': 'Hamilton',\n",
      "                   'species': 'canis lupus familiaris'},\n",
      "             '2': {'age': 8, 'name': 'Shadow', 'species': 'equus caballus'}}}\n"
     ]
    }
   ],
   "source": [
    "response = requests.get(\"http://localhost:8000/api/v1/animals\")\n",
    "pprint.pprint(response.json())"
   ]
  },
  {
   "cell_type": "code",
   "execution_count": 11,
   "id": "99623768",
   "metadata": {},
   "outputs": [
    {
     "name": "stdout",
     "output_type": "stream",
     "text": [
      "{'animal': {'age': 4, 'name': 'Burr', 'species': 'canis lupus familiaris'},\n",
      " 'animal_id': 1}\n"
     ]
    }
   ],
   "source": [
    "new_name = {\"name\": \"Burr\"}\n",
    "response = requests.patch(\"http://localhost:8000/api/v1/animals/1\", headers=headers, json=new_name)\n",
    "pprint.pprint(response.json())"
   ]
  },
  {
   "cell_type": "code",
   "execution_count": 12,
   "id": "ff20e306",
   "metadata": {},
   "outputs": [
    {
     "name": "stdout",
     "output_type": "stream",
     "text": [
      "{'animals': {'1': {'age': 4,\n",
      "                   'name': 'Burr',\n",
      "                   'species': 'canis lupus familiaris'},\n",
      "             '2': {'age': 8, 'name': 'Shadow', 'species': 'equus caballus'}}}\n"
     ]
    }
   ],
   "source": [
    "response = requests.get(\"http://localhost:8000/api/v1/animals\")\n",
    "pprint.pprint(response.json())"
   ]
  },
  {
   "cell_type": "code",
   "execution_count": 13,
   "id": "cdd1216a",
   "metadata": {},
   "outputs": [
    {
     "name": "stdout",
     "output_type": "stream",
     "text": [
      "{'animal_id': 2, 'message': 'Animal removed'}\n"
     ]
    }
   ],
   "source": [
    "response = requests.delete(\"http://localhost:8000/api/v1/animals/2\", headers=headers, json=new_name)\n",
    "pprint.pprint(response.json())"
   ]
  },
  {
   "cell_type": "code",
   "execution_count": 14,
   "id": "ff18d66e",
   "metadata": {},
   "outputs": [
    {
     "name": "stdout",
     "output_type": "stream",
     "text": [
      "{'animals': {'1': {'age': 4,\n",
      "                   'name': 'Burr',\n",
      "                   'species': 'canis lupus familiaris'}}}\n"
     ]
    }
   ],
   "source": [
    "response = requests.get(\"http://localhost:8000/api/v1/animals\")\n",
    "pprint.pprint(response.json())"
   ]
  },
  {
   "cell_type": "code",
   "execution_count": 15,
   "id": "3a4107e1",
   "metadata": {},
   "outputs": [
    {
     "data": {
      "text/plain": [
       "0"
      ]
     },
     "execution_count": 15,
     "metadata": {},
     "output_type": "execute_result"
    }
   ],
   "source": [
    "# This command will find the pid displayed above and kill it\n",
    "!kill $(ps aux | grep \"python example_one\" | grep -v grep | awk '{print $2}')"
   ]
  },
  {
   "attachments": {
    "image.png": {
     "image/png": "[encoded data removed]"
    }
   },
   "cell_type": "markdown",
   "id": "080f65af",
   "metadata": {},
   "source": [
    "### Documentation\n",
    "\n",
    "One of the great things about FastAPI is that it generates documentation automatically \"out of the box\". So, after running the above lines, you will have a docs page available at http://localhost:8000/docs. This doc page is pretty great without us having to do anything:\n",
    "\n",
    "![image.png](attachment:image.png)\n",
    "\n",
    "\n",
    "But, we can make it better:\n",
    "\n",
    "```python\n",
    "# example_one_w_documentation.py -- Runs on http://localhost:8001\n",
    "\n",
    "from fastapi import FastAPI, HTTPException, Path, Body\n",
    "from pydantic import BaseModel\n",
    "import uvicorn\n",
    "\n",
    "\n",
    "class Animal(BaseModel):\n",
    "    name: str\n",
    "    species: str\n",
    "    age: int\n",
    "        \n",
    "\n",
    "tags_metadata = [\n",
    "    {\n",
    "        \"name\":\"Create\",\n",
    "        \"description\": \"These endpoints create new internal resources.\",\n",
    "    },\n",
    "    {\n",
    "        \"name\": \"Read\",\n",
    "        \"description\": \"These endpoints read existing internal resources.\",\n",
    "    },\n",
    "    {\n",
    "        \"name\": \"Update\",\n",
    "        \"description\": \"These endpoints update an existing internal resource.\",\n",
    "        \"externalDocs\": {\n",
    "            \"description\": \"External docs\",\n",
    "            \"url\": \"https://fastapi.tiangolo.com/\",\n",
    "        },\n",
    "    },\n",
    "    {\n",
    "        \"name\": \"Delete\",\n",
    "        \"description\": \"These endpoints remove existing internal resources.\",\n",
    "    },\n",
    "]\n",
    "\n",
    "app = FastAPI(openapi_tags=tags_metadata)\n",
    "\n",
    "animal_cache = dict()\n",
    "\n",
    "\n",
    "@app.get(\"/\", \n",
    "         summary=\"Root Endpoint\", \n",
    "         description=\"A simple root endpoint for the FastAPI application.\",\n",
    "         tags=[\"Read\"])\n",
    "def read_root():\n",
    "    return {\"message\": \"Hello, FastAPI!\"}\n",
    "\n",
    "\n",
    "@app.get(\"/api/v1/animals/{animal_id}\",\n",
    "         summary=\"Get an Animal\",\n",
    "         description=\"Retrieve an animal by its ID.\",\n",
    "         tags=[\"Read\"])\n",
    "def read_animal(animal_id: int = Path(..., description=\"The ID of the animal to retrieve.\")):\n",
    "    if animal_id in animal_cache:\n",
    "        return {\"animal\": animal_cache[animal_id].dict()}\n",
    "    else:\n",
    "        raise HTTPException(\n",
    "            status_code=400, detail=f\"Could not find animal with id: {animal_id}\"\n",
    "        )\n",
    "\n",
    "\n",
    "@app.post(\"/api/v1/animals/\",\n",
    "          summary=\"Create an Animal\",\n",
    "          description=\"Create a new animal with the provided details.\",\n",
    "         tags=[\"Create\"])\n",
    "def insert_animal(animal: Animal = Body(..., example={\"name\": \"Tiger\", \"species\": \"Panthera tigris\", \"age\": 3})):\n",
    "    new_id = max(animal_cache.keys() or [0])\n",
    "    animal_cache[new_id] = animal\n",
    "    return {\"animal\": animal}\n",
    "\n",
    "\n",
    "@app.put(\"/api/v1/animals/{animal_id}\",\n",
    "         summary=\"Update an Animal\",\n",
    "         description=\"Update an entire existing animal by providing its ID and the updated details.\",\n",
    "         tags=[\"Update\"])\n",
    "def update_animal(animal_id: int = Path(..., description=\"The ID of the animal to update.\"),\n",
    "                animal: Animal = Body(..., example={\"name\": \"Lion\", \"species\": \"Panthera leo\", \"age\": 4})):\n",
    "    if animal_id in animal_cache:\n",
    "        animal_cache[animal_id] = animal\n",
    "        return {\"animal_id\": animal_id, \"animal\": animal_cache[animal_id]}\n",
    "    else:\n",
    "        raise HTTPException(\n",
    "            status_code=400, detail=f\"Could not find animal with id: {animal_id}\"\n",
    "        )\n",
    "        \n",
    "@app.patch(\"/api/v1/animals/{animal_id}\",\n",
    "           summary=\"Update an Animal\",\n",
    "           description=\"Update a partial existing animal by providing its ID and the new name.\",\n",
    "           tags=[\"Update\"])\n",
    "def update_animal_name(animal_id: int, animal: AnimalName):\n",
    "    if animal_id in animal_cache:\n",
    "        animal_record = animal_cache[animal_id]\n",
    "        animal_data = animal.dict(exclude_unset=True)\n",
    "        for key, value in animal_data.items():\n",
    "            setattr(animal_record, key, value)\n",
    "        animal_cache[animal_id] = animal_record\n",
    "        return {\"animal_id\": animal_id, \"animal\": animal_cache[animal_id]}\n",
    "    else:\n",
    "        raise HTTPException(\n",
    "            status_code=400, detail=f\"Could not find animal with id: {animal_id}\"\n",
    "        )\n",
    "\n",
    "\n",
    "\n",
    "@app.delete(\"/api/v1/animals/{animal_id}\",\n",
    "            summary=\"Delete an Animal\",\n",
    "            description=\"Delete an existing animal by providing its ID.\",\n",
    "            tags=[\"Delete\"])\n",
    "def delete_animal(animal_id: int = Path(..., description=\"The ID of the animal to delete.\")):\n",
    "    if animal_id in animal_cache:\n",
    "        del animal_cache[animal_id]\n",
    "        return {\"animal_id\": animal_id, \"message\": \"Animal removed\"}\n",
    "    else:\n",
    "        raise HTTPException(\n",
    "            status_code=400, detail=f\"Could not find animal with id: {animal_id}\"\n",
    "        )\n",
    "```"
   ]
  },
  {
   "cell_type": "code",
   "execution_count": 17,
   "id": "af03e255",
   "metadata": {},
   "outputs": [
    {
     "data": {
      "text/plain": [
       "0"
      ]
     },
     "execution_count": 17,
     "metadata": {},
     "output_type": "execute_result"
    }
   ],
   "source": [
    "!nohup python example_one_w_docs.py > example_one_w_docs.log 2>&1 &"
   ]
  },
  {
   "cell_type": "code",
   "execution_count": 18,
   "id": "1a0c0fce",
   "metadata": {},
   "outputs": [
    {
     "name": "stdout",
     "output_type": "stream",
     "text": [
      "chasehudson      19446   0.1  0.1 409340080  48336   ??  S     4:17PM   0:00.23 python example_one_w_docs.py\n"
     ]
    },
    {
     "data": {
      "text/plain": [
       "0"
      ]
     },
     "execution_count": 18,
     "metadata": {},
     "output_type": "execute_result"
    }
   ],
   "source": [
    "!ps aux | grep \"python example_one_w_docs\" | grep -v grep"
   ]
  },
  {
   "cell_type": "code",
   "execution_count": null,
   "id": "a22ec2ff",
   "metadata": {},
   "outputs": [],
   "source": [
    "!kill $(ps aux | grep \"python example_one_w_docs\" | grep -v grep | awk '{print $2}')"
   ]
  },
  {
   "cell_type": "markdown",
   "id": "a3d21393",
   "metadata": {},
   "source": [
    "## Advanced Features"
   ]
  },
  {
   "cell_type": "markdown",
   "id": "e145263b",
   "metadata": {},
   "source": [
    "### Database Management\n",
    "\n",
    "In the example above, we used an in memory cache to keep track of reasources. However, the most common approach is to have your REST API backed by a transactional database. We will look at an example implementation using SQLite, but first, we need to briefly touch on dependency injection"
   ]
  },
  {
   "cell_type": "markdown",
   "id": "2cbe7265",
   "metadata": {},
   "source": [
    "#### Dependency Injection\n",
    "\n",
    "Dependency injection is a technique used to manage dependencies (objects or services) that a function requires. It allows you to create reusable, modular, and easily testable components by decoupling their dependencies from their implementation. In FastAPI, you define dependency functions using the Depends class to manage these dependencies.\n",
    "\n",
    "To see why this is useful, let's look at to examples, one with dependency injection:\n",
    "\n",
    "\n",
    "```python\n",
    "from fastapi import FastAPI, Depends, HTTPException\n",
    "from sqlalchemy import create_engine, Column, Integer, String\n",
    "from sqlalchemy.ext.declarative import declarative_base\n",
    "from sqlalchemy.orm import sessionmaker, Session\n",
    "\n",
    "# Create the SQLAlchemy engine\n",
    "DATABASE_URL = \"sqlite:///./test.db\"\n",
    "engine = create_engine(DATABASE_URL)\n",
    "\n",
    "# Create the session factory\n",
    "SessionLocal = sessionmaker(autocommit=False, autoflush=False, bind=engine)\n",
    "\n",
    "# Define the base class for SQLAlchemy models\n",
    "Base = declarative_base()\n",
    "\n",
    "# Define an example model\n",
    "class Item(Base):\n",
    "    __tablename__ = \"items\"\n",
    "\n",
    "    id = Column(Integer, primary_key=True, index=True)\n",
    "    name = Column(String, index=True)\n",
    "\n",
    "# Dependency for providing a database session\n",
    "def get_db():\n",
    "    db = SessionLocal()\n",
    "    try:\n",
    "        yield db\n",
    "    finally:\n",
    "        db.close()\n",
    "\n",
    "app = FastAPI()\n",
    "\n",
    "@app.get(\"/items/{item_id}\")\n",
    "async def read_item(item_id: int, db: Session = Depends(get_db)):\n",
    "    item = db.query(Item).filter(Item.id == item_id).first()\n",
    "    if item is None:\n",
    "        raise HTTPException(status_code=404, detail=\"Item not found\")\n",
    "    return item\n",
    "```\n",
    "\n",
    "and one without:\n",
    "\n",
    "```python\n",
    "from fastapi import FastAPI, HTTPException\n",
    "from sqlalchemy import create_engine, Column, Integer, String\n",
    "from sqlalchemy.ext.declarative import declarative_base\n",
    "from sqlalchemy.orm import sessionmaker, Session\n",
    "\n",
    "# Create the SQLAlchemy engine\n",
    "DATABASE_URL = \"sqlite:///./test.db\"\n",
    "engine = create_engine(DATABASE_URL)\n",
    "\n",
    "# Create the session factory\n",
    "SessionLocal = sessionmaker(autocommit=False, autoflush=False, bind=engine)\n",
    "\n",
    "# Define the base class for SQLAlchemy models\n",
    "Base = declarative_base()\n",
    "\n",
    "# Define an example model\n",
    "class Item(Base):\n",
    "    __tablename__ = \"items\"\n",
    "\n",
    "    id = Column(Integer, primary_key=True, index=True)\n",
    "    name = Column(String, index=True)\n",
    "\n",
    "app = FastAPI()\n",
    "\n",
    "@app.get(\"/items/{item_id}\")\n",
    "async def read_item(item_id: int):\n",
    "    db = SessionLocal()\n",
    "    item = db.query(Item).filter(Item.id == item_id).first()\n",
    "    db.close()\n",
    "    if item is None:\n",
    "        raise HTTPException(status_code=404, detail=\"Item not found\")\n",
    "    return item\n",
    "```\n",
    "\n",
    "\n",
    "Now let's discuss the differences between the two approaches and the advantages of using dependency injection:\n",
    "\n",
    "Resource management: Without dependency injection, you need to manually open and close the database session in each route handler that requires access to the database. This is not only repetitive but also prone to errors, as you might forget to close the session or handle exceptions that could occur while accessing the database. With dependency injection, the responsibility of creating and closing the session is delegated to the dependency function, ensuring proper resource management.\n",
    "\n",
    "Scoping: In the non-dependency injection example, we are creating and closing the session within the same route handler function. This is less flexible than using dependency injection because you can't easily control the session's lifecycle. With dependency injection, you can easily switch between different session management strategies (e.g., having a single session per request or sharing a session across multiple requests) by just changing the dependency function.\n",
    "\n",
    "Testing: Without dependency injection, the read_item function is tightly coupled to the actual database session. This makes it more difficult to write unit tests, as you cannot easily replace the session with a mock object or an in-memory database. With dependency injection, the function receives the session as a parameter, making it easy to substitute the actual session with a test double."
   ]
  },
  {
   "cell_type": "markdown",
   "id": "c491bb5e",
   "metadata": {},
   "source": [
    "#### Example Two\n",
    "\n",
    "Let's take take Example One and have our resources stored persistently in a DB instead of ephimerally as an in-memory cache:\n",
    "\n",
    "```python\n",
    "from fastapi import FastAPI, Depends, HTTPException\n",
    "from sqlalchemy import create_engine, Column, Integer, String\n",
    "from sqlalchemy.ext.declarative import declarative_base\n",
    "from sqlalchemy.orm import sessionmaker, Session\n",
    "from pydantic import BaseModel\n",
    "import uvicorn\n",
    "\n",
    "\n",
    "# Define the base class for SQLAlchemy models\n",
    "Base = declarative_base()\n",
    "\n",
    "class Animal(Base):\n",
    "    __tablename__ = \"animals\"\n",
    "\n",
    "    id = Column(Integer, primary_key=True, index=True)\n",
    "    name = Column(String)  # If working with MySql, make sure to add length (e.g., Column(String(255)) )\n",
    "    species = Column(String)\n",
    "    age = Column(Integer)\n",
    "\n",
    "\n",
    "DATABASE_URL = \"sqlite:///./test.db\"\n",
    "app = FastAPI()\n",
    "\n",
    "Engine = create_engine(\n",
    "        DATABASE_URL,\n",
    "        connect_args={\"check_same_thread\": False},\n",
    "        native_datetime=True,)\n",
    "\n",
    "# Add a function for creating SessionLocal to aid in setting up unit tests\n",
    "def create_db(engine):\n",
    "    SessionLocal = sessionmaker(autocommit=False, autoflush=False, bind=engine)\n",
    "    Base.metadata.create_all(bind=engine)\n",
    "\n",
    "    return SessionLocal\n",
    "\n",
    "SessionLocal = create_db(Engine)\n",
    "app = FastAPI()\n",
    "\n",
    "\n",
    "class AnimalSchema(BaseModel):\n",
    "    name: str\n",
    "    species: str\n",
    "    age: int\n",
    "\n",
    "\n",
    "class AnimalNameSchema(BaseModel):\n",
    "    name: str\n",
    "\n",
    "\n",
    "# Dependency for providing a database session\n",
    "def get_db():\n",
    "    db = SessionLocal()\n",
    "    try:\n",
    "        yield db\n",
    "    finally:\n",
    "        db.close()\n",
    "\n",
    "\n",
    "@app.get(\"/\")\n",
    "def read_root():\n",
    "    return {\"message\": \"Hello, FastAPI!\"}\n",
    "\n",
    "\n",
    "@app.get(\"/api/v1/animals\")\n",
    "def read_all_animals(db: Session = Depends(get_db)):\n",
    "    animals = db.query(Animal).all()\n",
    "    return {\"animals\": animals}\n",
    "\n",
    "\n",
    "@app.post(\"/api/v1/animals\")\n",
    "def insert_animal(request: AnimalSchema, db: Session = Depends(get_db)):\n",
    "    new_animal = Animal(name=request.name,\n",
    "                        species=request.species,\n",
    "                        age=request.age)\n",
    "    db.add(new_animal)\n",
    "    db.commit()\n",
    "    db.refresh(new_animal)\n",
    "    return {\"animal\": new_animal}\n",
    "\n",
    "@app.get(\"/api/v1/animals/{animal_id}\")\n",
    "def read_animal(animal_id: int, db: Session = Depends(get_db)):\n",
    "    animal_record = db.query(Animal).filter(Animal.id == animal_id).first()\n",
    "    if animal_record is None:\n",
    "        raise HTTPException(\n",
    "            status_code=400, detail=f\"Could not find animal with id: {animal_id}\"\n",
    "        )\n",
    "    return {\"animal\": animal_record}\n",
    "\n",
    "\n",
    "@app.post(\"/api/v1/animals\")\n",
    "def insert_animal(request: AnimalSchema, db: Session = Depends(get_db)):\n",
    "    new_animal = Animal(name=request.name,\n",
    "                        species=request.species,\n",
    "                        age=request.age)\n",
    "    db.add(new_animal)\n",
    "    db.commit()\n",
    "    db.refresh(new_animal)\n",
    "    return {\"animal\": new_animal}\n",
    "\n",
    "\n",
    "@app.put(\"/api/v1/animals/{animal_id}\")\n",
    "def update_animal(animal_id: int, animal: AnimalSchema, db: Session = Depends(get_db)):\n",
    "    animal_record = db.query(Animal).filter(Animal.id == animal_id).first()\n",
    "    if animal_record is None:\n",
    "        raise HTTPException(\n",
    "            status_code=400, detail=f\"Could not find animal with id: {animal_id}\"\n",
    "        )\n",
    "    animal_data = animal.dict(exclude_unset=True)\n",
    "    for key, value in animal_data.items():\n",
    "        setattr(animal_record, key, value)\n",
    "    db.add(animal_record)\n",
    "    db.commit()\n",
    "    updated_animal_record = db.query(Animal).filter(Animal.id == animal_id).first()\n",
    "    return {\"animal_id\": animal_id, \"animal\": updated_animal_record}\n",
    "\n",
    "\n",
    "@app.patch(\"/api/v1/animals/{animal_id}\")\n",
    "def update_animal_name(animal_id: int, animal: AnimalNameSchema, db: Session = Depends(get_db)):\n",
    "    animal_record = db.query(Animal).filter(Animal.id == animal_id).first()\n",
    "    if animal_record is None:\n",
    "        raise HTTPException(\n",
    "            status_code=400, detail=f\"Could not find animal with id: {animal_id}\"\n",
    "        )\n",
    "    animal_data = animal.dict(exclude_unset=True)\n",
    "    for key, value in animal_data.items():\n",
    "        setattr(animal_record, key, value)\n",
    "    db.add(animal_record)\n",
    "    db.commit()\n",
    "    updated_animal_record = db.query(Animal).filter(Animal.id == animal_id).first()\n",
    "    return {\"animal_id\": animal_id, \"animal\": updated_animal_record}\n",
    "\n",
    "\n",
    "@app.delete(\"/api/v1/animals/{animal_id}\")\n",
    "def delete_item(animal_id: int, db: Session = Depends(get_db)):\n",
    "    animal_record = db.query(Animal).filter(Animal.id == animal_id).first()\n",
    "    if animal_record is None:\n",
    "        raise HTTPException(\n",
    "            status_code=400, detail=f\"Could not find animal with id: {animal_id}\"\n",
    "        )\n",
    "    db.delete(animal_record)\n",
    "    db.commit()\n",
    "    return {\"animal_id\": animal_id, \"message\": \"Animal removed\"}\n",
    "```"
   ]
  },
  {
   "cell_type": "code",
   "execution_count": 31,
   "id": "a76c1c5b",
   "metadata": {
    "scrolled": true
   },
   "outputs": [
    {
     "data": {
      "text/plain": [
       "0"
      ]
     },
     "execution_count": 31,
     "metadata": {},
     "output_type": "execute_result"
    }
   ],
   "source": [
    "!nohup python example_two.py > example_two.log 2>&1 &"
   ]
  },
  {
   "cell_type": "code",
   "execution_count": 30,
   "id": "399102b2",
   "metadata": {},
   "outputs": [
    {
     "data": {
      "text/plain": [
       "256"
      ]
     },
     "execution_count": 30,
     "metadata": {},
     "output_type": "execute_result"
    }
   ],
   "source": [
    "!ps aux | grep \"python example_two\"  | grep -v grep"
   ]
  },
  {
   "cell_type": "code",
   "execution_count": 32,
   "id": "c3cc889a",
   "metadata": {},
   "outputs": [
    {
     "name": "stdout",
     "output_type": "stream",
     "text": [
      "{'animals': [{'age': 4,\n",
      "              'id': 1,\n",
      "              'name': 'Burr',\n",
      "              'species': 'canis lupus familiaris'},\n",
      "             {'age': 8,\n",
      "              'id': 2,\n",
      "              'name': 'Shadow',\n",
      "              'species': 'equus caballus'}]}\n"
     ]
    }
   ],
   "source": [
    "response = requests.get(\"http://localhost:8002/api/v1/animals\")\n",
    "pprint.pprint(response.json())"
   ]
  },
  {
   "cell_type": "code",
   "execution_count": 22,
   "id": "50979716",
   "metadata": {},
   "outputs": [
    {
     "name": "stdout",
     "output_type": "stream",
     "text": [
      "{'animal': {'age': 4,\n",
      "            'id': 1,\n",
      "            'name': 'Hamilton',\n",
      "            'species': 'canis lupus familiaris'}}\n"
     ]
    }
   ],
   "source": [
    "headers = {'Content-type': 'application/json'}\n",
    "dog = {\"name\": \"Hamilton\", \"age\": 4, \"species\": \"canis lupus familiaris\"}\n",
    "response = requests.post(\"http://localhost:8002/api/v1/animals\", headers=headers, json=dog)\n",
    "pprint.pprint(response.json())"
   ]
  },
  {
   "cell_type": "code",
   "execution_count": 23,
   "id": "295fd55e",
   "metadata": {},
   "outputs": [
    {
     "name": "stdout",
     "output_type": "stream",
     "text": [
      "{'animal': {'age': 6, 'id': 2, 'name': 'Cujo', 'species': 'equus asinus'}}\n"
     ]
    }
   ],
   "source": [
    "headers = {'Content-type': 'application/json'}\n",
    "donkey = {\"name\": \"Cujo\", \"age\": 6, \"species\": \"equus asinus\"}\n",
    "response = requests.post(\"http://localhost:8002/api/v1/animals\", headers=headers, json=donkey)\n",
    "pprint.pprint(response.json())"
   ]
  },
  {
   "cell_type": "code",
   "execution_count": 24,
   "id": "2aa0c41f",
   "metadata": {},
   "outputs": [
    {
     "name": "stdout",
     "output_type": "stream",
     "text": [
      "{'animals': [{'age': 4,\n",
      "              'id': 1,\n",
      "              'name': 'Hamilton',\n",
      "              'species': 'canis lupus familiaris'},\n",
      "             {'age': 6, 'id': 2, 'name': 'Cujo', 'species': 'equus asinus'}]}\n"
     ]
    }
   ],
   "source": [
    "response = requests.get(\"http://localhost:8002/api/v1/animals\")\n",
    "pprint.pprint(response.json())"
   ]
  },
  {
   "cell_type": "code",
   "execution_count": 25,
   "id": "2e1ee583",
   "metadata": {},
   "outputs": [
    {
     "name": "stdout",
     "output_type": "stream",
     "text": [
      "{'animal': {'age': 8, 'id': 2, 'name': 'Shadow', 'species': 'equus caballus'},\n",
      " 'animal_id': 2}\n"
     ]
    }
   ],
   "source": [
    "horse = {\"name\": \"Shadow\", \"age\": 8, \"species\": \"equus caballus\"}\n",
    "response = requests.put(\"http://localhost:8002/api/v1/animals/2\", headers=headers, json=horse)\n",
    "pprint.pprint(response.json())"
   ]
  },
  {
   "cell_type": "code",
   "execution_count": 26,
   "id": "64622031",
   "metadata": {},
   "outputs": [
    {
     "name": "stdout",
     "output_type": "stream",
     "text": [
      "{'animals': [{'age': 4,\n",
      "              'id': 1,\n",
      "              'name': 'Hamilton',\n",
      "              'species': 'canis lupus familiaris'},\n",
      "             {'age': 8,\n",
      "              'id': 2,\n",
      "              'name': 'Shadow',\n",
      "              'species': 'equus caballus'}]}\n"
     ]
    }
   ],
   "source": [
    "response = requests.get(\"http://localhost:8002/api/v1/animals\")\n",
    "pprint.pprint(response.json())"
   ]
  },
  {
   "cell_type": "code",
   "execution_count": 27,
   "id": "287cf1bf",
   "metadata": {},
   "outputs": [
    {
     "name": "stdout",
     "output_type": "stream",
     "text": [
      "{'animal': {'age': 4,\n",
      "            'id': 1,\n",
      "            'name': 'Burr',\n",
      "            'species': 'canis lupus familiaris'},\n",
      " 'animal_id': 1}\n"
     ]
    }
   ],
   "source": [
    "new_name = {\"name\": \"Burr\"}\n",
    "response = requests.patch(\"http://localhost:8002/api/v1/animals/1\", headers=headers, json=new_name)\n",
    "pprint.pprint(response.json())"
   ]
  },
  {
   "cell_type": "code",
   "execution_count": 28,
   "id": "6c2cf6ef",
   "metadata": {},
   "outputs": [
    {
     "name": "stdout",
     "output_type": "stream",
     "text": [
      "{'animals': [{'age': 4,\n",
      "              'id': 1,\n",
      "              'name': 'Burr',\n",
      "              'species': 'canis lupus familiaris'},\n",
      "             {'age': 8,\n",
      "              'id': 2,\n",
      "              'name': 'Shadow',\n",
      "              'species': 'equus caballus'}]}\n"
     ]
    }
   ],
   "source": [
    "response = requests.get(\"http://localhost:8002/api/v1/animals\")\n",
    "pprint.pprint(response.json())"
   ]
  },
  {
   "cell_type": "code",
   "execution_count": null,
   "id": "327af1d0",
   "metadata": {},
   "outputs": [],
   "source": [
    "response = requests.delete(\"http://localhost:8002/api/v1/animals/2\", headers=headers, json=new_name)\n",
    "pprint.pprint(response.json())"
   ]
  },
  {
   "cell_type": "code",
   "execution_count": null,
   "id": "e472d72c",
   "metadata": {},
   "outputs": [],
   "source": [
    "response = requests.get(\"http://localhost:8002/api/v1/animals\")\n",
    "pprint.pprint(response.json())"
   ]
  },
  {
   "cell_type": "code",
   "execution_count": 29,
   "id": "53874875",
   "metadata": {},
   "outputs": [
    {
     "data": {
      "text/plain": [
       "0"
      ]
     },
     "execution_count": 29,
     "metadata": {},
     "output_type": "execute_result"
    }
   ],
   "source": [
    "!kill $(ps aux | grep \"python example_two\" | grep -v grep | awk '{print $2}')"
   ]
  },
  {
   "cell_type": "markdown",
   "id": "f63bf418",
   "metadata": {},
   "source": [
    "### Security\n",
    "\n",
    "FastAPI makes use of OAuth2 and jwt (JSON Web Token) to authenticate users and create secure endpoints. A brief note about JWTs, JWTs are really just an agreed upon standard for signing and/or encrypting JSON whose payload asserts a particular set of claims.\n",
    "\n",
    "\n",
    "I will not spend too much time on this section, but wanted to provide an example for reference:\n",
    "\n",
    "```python\n",
    "# security_example.py -- Runs on http://localhost:8005\n",
    "\n",
    "from fastapi import FastAPI, Depends, HTTPException, status\n",
    "from fastapi.security import OAuth2PasswordBearer\n",
    "from pydantic import BaseModel\n",
    "import jwt\n",
    "import datetime\n",
    "from typing import Optional\n",
    "\n",
    "# Secret key for encoding and decoding JWT\n",
    "SECRET_KEY = \"supersecretkey\"\n",
    "\n",
    "# OAuth2PasswordBearer instance for handling tokens\n",
    "oauth2_scheme = OAuth2PasswordBearer(tokenUrl=\"token\")\n",
    "\n",
    "app = FastAPI()\n",
    "\n",
    "# Mock user data\n",
    "fake_users_db = {\n",
    "    \"user1\": {\n",
    "        \"username\": \"user1\",\n",
    "        \"password\": \"password1\",\n",
    "    }\n",
    "}\n",
    "\n",
    "class Token(BaseModel):\n",
    "    access_token: str\n",
    "    token_type: str\n",
    "\n",
    "\n",
    "class TokenData(BaseModel):\n",
    "    username: Optional[str] = None\n",
    "\n",
    "\n",
    "def create_jwt_token(data: dict):\n",
    "    expiration = datetime.timedelta(hours=1)\n",
    "    payload = {**data, \"exp\": datetime.datetime.utcnow() + expiration}\n",
    "    token = jwt.encode(payload, SECRET_KEY, algorithm=\"HS256\")\n",
    "    return token\n",
    "\n",
    "def decode_jwt_token(token: str):\n",
    "    try:\n",
    "        payload = jwt.decode(token, SECRET_KEY, algorithms=[\"HS256\"])\n",
    "        return payload\n",
    "    except jwt.ExpiredSignatureError:\n",
    "        raise HTTPException(\n",
    "            status_code=status.HTTP_401_UNAUTHORIZED,\n",
    "            detail=\"Token has expired\",\n",
    "            headers={\"WWW-Authenticate\": \"Bearer\"},\n",
    "        )\n",
    "    except jwt.InvalidTokenError:\n",
    "        raise HTTPException(\n",
    "            status_code=status.HTTP_401_UNAUTHORIZED,\n",
    "            detail=\"Invalid token\",\n",
    "            headers={\"WWW-Authenticate\": \"Bearer\"},\n",
    "        )\n",
    "\n",
    "def get_current_user(token: str = Depends(oauth2_scheme)):\n",
    "    payload = decode_jwt_token(token)\n",
    "    username: str = payload.get(\"sub\")\n",
    "    if username is None:\n",
    "        raise HTTPException(\n",
    "            status_code=status.HTTP_401_UNAUTHORIZED,\n",
    "            detail=\"Invalid authentication credentials\",\n",
    "            headers={\"WWW-Authenticate\": \"Bearer\"},\n",
    "        )\n",
    "    return fake_users_db.get(username)\n",
    "\n",
    "@app.post(\"/api/v1/token\", response_model=Token)\n",
    "def login(form_data: dict):\n",
    "    username = form_data.get(\"username\")\n",
    "    password = form_data.get(\"password\")\n",
    "\n",
    "    user = fake_users_db.get(username)\n",
    "\n",
    "    if not user or user.get(\"password\") != password:\n",
    "        raise HTTPException(\n",
    "            status_code=status.HTTP_400_BAD_REQUEST,\n",
    "            detail=\"Incorrect username or password\",\n",
    "            headers={\"WWW-Authenticate\": \"Bearer\"},\n",
    "        )\n",
    "\n",
    "    access_token = create_jwt_token({\"sub\": username})\n",
    "    return {\"access_token\": access_token, \"token_type\": \"bearer\"}\n",
    "\n",
    "@app.get(\"/api/v1/users/me\")\n",
    "def read_users_me(current_user: dict = Depends(get_current_user)):\n",
    "    return current_user\n",
    "```"
   ]
  },
  {
   "cell_type": "code",
   "execution_count": null,
   "id": "a20e1dbb",
   "metadata": {},
   "outputs": [],
   "source": [
    "!nohup python security_example.py > security_example.log 2>&1 &"
   ]
  },
  {
   "cell_type": "code",
   "execution_count": null,
   "id": "bcafdd56",
   "metadata": {},
   "outputs": [],
   "source": [
    "!ps aux | grep \"python security_example\" | grep -v grep"
   ]
  },
  {
   "cell_type": "code",
   "execution_count": null,
   "id": "aab75e4a",
   "metadata": {},
   "outputs": [],
   "source": [
    "user = {\"username\": \"user1\",\n",
    "        \"password\": \"password1\"}\n",
    "response = requests.post(\"http://localhost:8005/api/v1/token\", headers=headers, json=user)\n",
    "pprint.pprint(response.json())"
   ]
  },
  {
   "cell_type": "code",
   "execution_count": null,
   "id": "4a35263f",
   "metadata": {},
   "outputs": [],
   "source": [
    "!kill $(ps aux | grep \"python security_example\" | grep -v grep | awk '{print $2}')"
   ]
  },
  {
   "cell_type": "markdown",
   "id": "60210997",
   "metadata": {},
   "source": [
    "### Async\n",
    "\n",
    "You will often see FastAPI endpoints be defined with `async def` instead of just `def`. Many examples do this to illustrate that FastAPI has async capabilities built-in, but they will use `async def` on end points that do not actually make use of async capabilities. By convention, I only add `async def` when it is being used. Below is an example of when you actually need `async def`.\n",
    "\n",
    "\n",
    "```python\n",
    "# async_example.py -- Runs on http://localhost:8003\n",
    "\n",
    "from fastapi import FastAPI\n",
    "import httpx\n",
    "\n",
    "app = FastAPI()\n",
    "\n",
    "async def fetch_data(url: str):\n",
    "    async with httpx.AsyncClient() as client:\n",
    "        response = await client.get(url)\n",
    "    return response.json()\n",
    "\n",
    "@app.get(\"/api/v1/data\")\n",
    "async def get_data():\n",
    "    url = \"https://jsonplaceholder.typicode.com/todos/1\"\n",
    "    data = await fetch_data(url)\n",
    "    return {\"data\": data}\n",
    "```"
   ]
  },
  {
   "cell_type": "code",
   "execution_count": 33,
   "id": "ca951727",
   "metadata": {},
   "outputs": [
    {
     "data": {
      "text/plain": [
       "0"
      ]
     },
     "execution_count": 33,
     "metadata": {},
     "output_type": "execute_result"
    }
   ],
   "source": [
    "!nohup python async_example.py > async_example.log 2>&1 &"
   ]
  },
  {
   "cell_type": "code",
   "execution_count": 34,
   "id": "f44c902b",
   "metadata": {},
   "outputs": [
    {
     "data": {
      "text/plain": [
       "0"
      ]
     },
     "execution_count": 34,
     "metadata": {},
     "output_type": "execute_result"
    }
   ],
   "source": [
    "!nohup python async_example_no_async.py > async_example_no_async.log 2>&1 &"
   ]
  },
  {
   "cell_type": "code",
   "execution_count": 35,
   "id": "5182ee69",
   "metadata": {},
   "outputs": [
    {
     "name": "stdout",
     "output_type": "stream",
     "text": [
      "chasehudson      19731   0.0  0.1 409348272  48304   ??  S     4:25PM   0:00.23 python async_example_no_async.py\n",
      "chasehudson      19725   0.0  0.1 409487536  48608   ??  S     4:25PM   0:00.24 python async_example.py\n"
     ]
    },
    {
     "data": {
      "text/plain": [
       "0"
      ]
     },
     "execution_count": 35,
     "metadata": {},
     "output_type": "execute_result"
    }
   ],
   "source": [
    "!ps aux | grep \"python async_example\"  | grep -v grep"
   ]
  },
  {
   "cell_type": "code",
   "execution_count": 36,
   "id": "0ea08240",
   "metadata": {},
   "outputs": [
    {
     "name": "stdout",
     "output_type": "stream",
     "text": [
      "b'{\"data\":{\"userId\":1,\"id\":1,\"title\":\"delectus aut autem\",\"completed\":false}}'\n",
      "b'{\"data\":{\"userId\":1,\"id\":1,\"title\":\"delectus aut autem\",\"completed\":false}}'\n",
      "b'{\"data\":{\"userId\":1,\"id\":1,\"title\":\"delectus aut autem\",\"completed\":false}}'\n",
      "b'{\"data\":{\"userId\":1,\"id\":1,\"title\":\"delectus aut autem\",\"completed\":false}}'\n",
      "b'{\"data\":{\"userId\":1,\"id\":1,\"title\":\"delectus aut autem\",\"completed\":false}}'\n",
      "b'{\"data\":{\"userId\":1,\"id\":1,\"title\":\"delectus aut autem\",\"completed\":false}}'\n",
      "b'{\"data\":{\"userId\":1,\"id\":1,\"title\":\"delectus aut autem\",\"completed\":false}}'\n",
      "b'{\"data\":{\"userId\":1,\"id\":1,\"title\":\"delectus aut autem\",\"completed\":false}}'\n",
      "b'{\"data\":{\"userId\":1,\"id\":1,\"title\":\"delectus aut autem\",\"completed\":false}}'\n",
      "b'{\"data\":{\"userId\":1,\"id\":1,\"title\":\"delectus aut autem\",\"completed\":false}}'\n",
      "b'{\"data\":{\"userId\":1,\"id\":1,\"title\":\"delectus aut autem\",\"completed\":false}}'\n",
      "b'{\"data\":{\"userId\":1,\"id\":1,\"title\":\"delectus aut autem\",\"completed\":false}}'\n",
      "b'{\"data\":{\"userId\":1,\"id\":1,\"title\":\"delectus aut autem\",\"completed\":false}}'\n",
      "b'{\"data\":{\"userId\":1,\"id\":1,\"title\":\"delectus aut autem\",\"completed\":false}}'\n",
      "b'{\"data\":{\"userId\":1,\"id\":1,\"title\":\"delectus aut autem\",\"completed\":false}}'\n",
      "b'{\"data\":{\"userId\":1,\"id\":1,\"title\":\"delectus aut autem\",\"completed\":false}}'\n",
      "b'{\"data\":{\"userId\":1,\"id\":1,\"title\":\"delectus aut autem\",\"completed\":false}}'\n",
      "b'{\"data\":{\"userId\":1,\"id\":1,\"title\":\"delectus aut autem\",\"completed\":false}}'\n",
      "b'{\"data\":{\"userId\":1,\"id\":1,\"title\":\"delectus aut autem\",\"completed\":false}}'\n",
      "b'{\"data\":{\"userId\":1,\"id\":1,\"title\":\"delectus aut autem\",\"completed\":false}}'\n",
      "b'{\"data\":{\"userId\":1,\"id\":1,\"title\":\"delectus aut autem\",\"completed\":false}}'\n",
      "b'{\"data\":{\"userId\":1,\"id\":1,\"title\":\"delectus aut autem\",\"completed\":false}}'\n",
      "b'{\"data\":{\"userId\":1,\"id\":1,\"title\":\"delectus aut autem\",\"completed\":false}}'\n",
      "b'{\"data\":{\"userId\":1,\"id\":1,\"title\":\"delectus aut autem\",\"completed\":false}}'\n",
      "b'{\"data\":{\"userId\":1,\"id\":1,\"title\":\"delectus aut autem\",\"completed\":false}}'\n",
      "b'{\"data\":{\"userId\":1,\"id\":1,\"title\":\"delectus aut autem\",\"completed\":false}}'\n",
      "b'{\"data\":{\"userId\":1,\"id\":1,\"title\":\"delectus aut autem\",\"completed\":false}}'\n",
      "b'{\"data\":{\"userId\":1,\"id\":1,\"title\":\"delectus aut autem\",\"completed\":false}}'\n",
      "b'{\"data\":{\"userId\":1,\"id\":1,\"title\":\"delectus aut autem\",\"completed\":false}}'\n",
      "b'{\"data\":{\"userId\":1,\"id\":1,\"title\":\"delectus aut autem\",\"completed\":false}}'\n",
      "b'{\"data\":{\"userId\":1,\"id\":1,\"title\":\"delectus aut autem\",\"completed\":false}}'\n",
      "b'{\"data\":{\"userId\":1,\"id\":1,\"title\":\"delectus aut autem\",\"completed\":false}}'\n",
      "b'{\"data\":{\"userId\":1,\"id\":1,\"title\":\"delectus aut autem\",\"completed\":false}}'\n",
      "b'{\"data\":{\"userId\":1,\"id\":1,\"title\":\"delectus aut autem\",\"completed\":false}}'\n",
      "b'{\"data\":{\"userId\":1,\"id\":1,\"title\":\"delectus aut autem\",\"completed\":false}}'\n",
      "b'{\"data\":{\"userId\":1,\"id\":1,\"title\":\"delectus aut autem\",\"completed\":false}}'\n",
      "b'{\"data\":{\"userId\":1,\"id\":1,\"title\":\"delectus aut autem\",\"completed\":false}}'\n",
      "b'{\"data\":{\"userId\":1,\"id\":1,\"title\":\"delectus aut autem\",\"completed\":false}}'\n",
      "b'{\"data\":{\"userId\":1,\"id\":1,\"title\":\"delectus aut autem\",\"completed\":false}}'\n",
      "b'{\"data\":{\"userId\":1,\"id\":1,\"title\":\"delectus aut autem\",\"completed\":false}}'\n",
      "b'{\"data\":{\"userId\":1,\"id\":1,\"title\":\"delectus aut autem\",\"completed\":false}}'\n",
      "b'{\"data\":{\"userId\":1,\"id\":1,\"title\":\"delectus aut autem\",\"completed\":false}}'\n",
      "b'{\"data\":{\"userId\":1,\"id\":1,\"title\":\"delectus aut autem\",\"completed\":false}}'\n",
      "b'{\"data\":{\"userId\":1,\"id\":1,\"title\":\"delectus aut autem\",\"completed\":false}}'\n",
      "b'{\"data\":{\"userId\":1,\"id\":1,\"title\":\"delectus aut autem\",\"completed\":false}}'\n",
      "b'{\"data\":{\"userId\":1,\"id\":1,\"title\":\"delectus aut autem\",\"completed\":false}}'\n",
      "b'{\"data\":{\"userId\":1,\"id\":1,\"title\":\"delectus aut autem\",\"completed\":false}}'\n",
      "b'{\"data\":{\"userId\":1,\"id\":1,\"title\":\"delectus aut autem\",\"completed\":false}}'\n",
      "b'{\"data\":{\"userId\":1,\"id\":1,\"title\":\"delectus aut autem\",\"completed\":false}}'\n",
      "b'{\"data\":{\"userId\":1,\"id\":1,\"title\":\"delectus aut autem\",\"completed\":false}}'\n",
      "b'{\"data\":{\"userId\":1,\"id\":1,\"title\":\"delectus aut autem\",\"completed\":false}}'\n",
      "b'{\"data\":{\"userId\":1,\"id\":1,\"title\":\"delectus aut autem\",\"completed\":false}}'\n",
      "b'{\"data\":{\"userId\":1,\"id\":1,\"title\":\"delectus aut autem\",\"completed\":false}}'\n",
      "b'{\"data\":{\"userId\":1,\"id\":1,\"title\":\"delectus aut autem\",\"completed\":false}}'\n",
      "b'{\"data\":{\"userId\":1,\"id\":1,\"title\":\"delectus aut autem\",\"completed\":false}}'\n",
      "b'{\"data\":{\"userId\":1,\"id\":1,\"title\":\"delectus aut autem\",\"completed\":false}}'\n",
      "b'{\"data\":{\"userId\":1,\"id\":1,\"title\":\"delectus aut autem\",\"completed\":false}}'\n",
      "b'{\"data\":{\"userId\":1,\"id\":1,\"title\":\"delectus aut autem\",\"completed\":false}}'\n",
      "b'{\"data\":{\"userId\":1,\"id\":1,\"title\":\"delectus aut autem\",\"completed\":false}}'\n",
      "b'{\"data\":{\"userId\":1,\"id\":1,\"title\":\"delectus aut autem\",\"completed\":false}}'\n",
      "b'{\"data\":{\"userId\":1,\"id\":1,\"title\":\"delectus aut autem\",\"completed\":false}}'\n",
      "b'{\"data\":{\"userId\":1,\"id\":1,\"title\":\"delectus aut autem\",\"completed\":false}}'\n",
      "b'{\"data\":{\"userId\":1,\"id\":1,\"title\":\"delectus aut autem\",\"completed\":false}}'\n",
      "b'{\"data\":{\"userId\":1,\"id\":1,\"title\":\"delectus aut autem\",\"completed\":false}}'\n",
      "b'{\"data\":{\"userId\":1,\"id\":1,\"title\":\"delectus aut autem\",\"completed\":false}}'\n",
      "b'{\"data\":{\"userId\":1,\"id\":1,\"title\":\"delectus aut autem\",\"completed\":false}}'\n",
      "b'{\"data\":{\"userId\":1,\"id\":1,\"title\":\"delectus aut autem\",\"completed\":false}}'\n",
      "b'{\"data\":{\"userId\":1,\"id\":1,\"title\":\"delectus aut autem\",\"completed\":false}}'\n",
      "b'{\"data\":{\"userId\":1,\"id\":1,\"title\":\"delectus aut autem\",\"completed\":false}}'\n",
      "b'{\"data\":{\"userId\":1,\"id\":1,\"title\":\"delectus aut autem\",\"completed\":false}}'\n",
      "b'{\"data\":{\"userId\":1,\"id\":1,\"title\":\"delectus aut autem\",\"completed\":false}}'\n",
      "b'{\"data\":{\"userId\":1,\"id\":1,\"title\":\"delectus aut autem\",\"completed\":false}}'\n",
      "b'{\"data\":{\"userId\":1,\"id\":1,\"title\":\"delectus aut autem\",\"completed\":false}}'\n",
      "b'{\"data\":{\"userId\":1,\"id\":1,\"title\":\"delectus aut autem\",\"completed\":false}}'\n",
      "b'{\"data\":{\"userId\":1,\"id\":1,\"title\":\"delectus aut autem\",\"completed\":false}}'\n",
      "b'{\"data\":{\"userId\":1,\"id\":1,\"title\":\"delectus aut autem\",\"completed\":false}}'\n",
      "b'{\"data\":{\"userId\":1,\"id\":1,\"title\":\"delectus aut autem\",\"completed\":false}}'\n",
      "b'{\"data\":{\"userId\":1,\"id\":1,\"title\":\"delectus aut autem\",\"completed\":false}}'\n",
      "b'{\"data\":{\"userId\":1,\"id\":1,\"title\":\"delectus aut autem\",\"completed\":false}}'\n",
      "b'{\"data\":{\"userId\":1,\"id\":1,\"title\":\"delectus aut autem\",\"completed\":false}}'\n",
      "1.23 s ± 21.1 ms per loop (mean ± std. dev. of 2 runs, 4 loops each)\n"
     ]
    }
   ],
   "source": [
    "%%timeit -r 2 -n 4\n",
    "import requests\n",
    "\n",
    "\n",
    "for i in range(10):\n",
    "    response = requests.get(\"http://localhost:8003/api/v1/data\")\n",
    "    print(response.content)"
   ]
  },
  {
   "cell_type": "code",
   "execution_count": 37,
   "id": "4774a615",
   "metadata": {},
   "outputs": [
    {
     "name": "stdout",
     "output_type": "stream",
     "text": [
      "b'{\"data\":{\"userId\":1,\"id\":1,\"title\":\"delectus aut autem\",\"completed\":false}}'\n",
      "b'{\"data\":{\"userId\":1,\"id\":1,\"title\":\"delectus aut autem\",\"completed\":false}}'\n",
      "b'{\"data\":{\"userId\":1,\"id\":1,\"title\":\"delectus aut autem\",\"completed\":false}}'\n",
      "b'{\"data\":{\"userId\":1,\"id\":1,\"title\":\"delectus aut autem\",\"completed\":false}}'\n",
      "b'{\"data\":{\"userId\":1,\"id\":1,\"title\":\"delectus aut autem\",\"completed\":false}}'\n",
      "b'{\"data\":{\"userId\":1,\"id\":1,\"title\":\"delectus aut autem\",\"completed\":false}}'\n",
      "b'{\"data\":{\"userId\":1,\"id\":1,\"title\":\"delectus aut autem\",\"completed\":false}}'\n",
      "b'{\"data\":{\"userId\":1,\"id\":1,\"title\":\"delectus aut autem\",\"completed\":false}}'\n",
      "b'{\"data\":{\"userId\":1,\"id\":1,\"title\":\"delectus aut autem\",\"completed\":false}}'\n",
      "b'{\"data\":{\"userId\":1,\"id\":1,\"title\":\"delectus aut autem\",\"completed\":false}}'\n",
      "b'{\"data\":{\"userId\":1,\"id\":1,\"title\":\"delectus aut autem\",\"completed\":false}}'\n",
      "b'{\"data\":{\"userId\":1,\"id\":1,\"title\":\"delectus aut autem\",\"completed\":false}}'\n",
      "b'{\"data\":{\"userId\":1,\"id\":1,\"title\":\"delectus aut autem\",\"completed\":false}}'\n",
      "b'{\"data\":{\"userId\":1,\"id\":1,\"title\":\"delectus aut autem\",\"completed\":false}}'\n",
      "b'{\"data\":{\"userId\":1,\"id\":1,\"title\":\"delectus aut autem\",\"completed\":false}}'\n",
      "b'{\"data\":{\"userId\":1,\"id\":1,\"title\":\"delectus aut autem\",\"completed\":false}}'\n",
      "b'{\"data\":{\"userId\":1,\"id\":1,\"title\":\"delectus aut autem\",\"completed\":false}}'\n",
      "b'{\"data\":{\"userId\":1,\"id\":1,\"title\":\"delectus aut autem\",\"completed\":false}}'\n",
      "b'{\"data\":{\"userId\":1,\"id\":1,\"title\":\"delectus aut autem\",\"completed\":false}}'\n",
      "b'{\"data\":{\"userId\":1,\"id\":1,\"title\":\"delectus aut autem\",\"completed\":false}}'\n",
      "b'{\"data\":{\"userId\":1,\"id\":1,\"title\":\"delectus aut autem\",\"completed\":false}}'\n",
      "b'{\"data\":{\"userId\":1,\"id\":1,\"title\":\"delectus aut autem\",\"completed\":false}}'\n",
      "b'{\"data\":{\"userId\":1,\"id\":1,\"title\":\"delectus aut autem\",\"completed\":false}}'\n",
      "b'{\"data\":{\"userId\":1,\"id\":1,\"title\":\"delectus aut autem\",\"completed\":false}}'\n",
      "b'{\"data\":{\"userId\":1,\"id\":1,\"title\":\"delectus aut autem\",\"completed\":false}}'\n",
      "b'{\"data\":{\"userId\":1,\"id\":1,\"title\":\"delectus aut autem\",\"completed\":false}}'\n",
      "b'{\"data\":{\"userId\":1,\"id\":1,\"title\":\"delectus aut autem\",\"completed\":false}}'\n",
      "b'{\"data\":{\"userId\":1,\"id\":1,\"title\":\"delectus aut autem\",\"completed\":false}}'\n",
      "b'{\"data\":{\"userId\":1,\"id\":1,\"title\":\"delectus aut autem\",\"completed\":false}}'\n",
      "b'{\"data\":{\"userId\":1,\"id\":1,\"title\":\"delectus aut autem\",\"completed\":false}}'\n",
      "b'{\"data\":{\"userId\":1,\"id\":1,\"title\":\"delectus aut autem\",\"completed\":false}}'\n",
      "b'{\"data\":{\"userId\":1,\"id\":1,\"title\":\"delectus aut autem\",\"completed\":false}}'\n",
      "b'{\"data\":{\"userId\":1,\"id\":1,\"title\":\"delectus aut autem\",\"completed\":false}}'\n",
      "b'{\"data\":{\"userId\":1,\"id\":1,\"title\":\"delectus aut autem\",\"completed\":false}}'\n",
      "b'{\"data\":{\"userId\":1,\"id\":1,\"title\":\"delectus aut autem\",\"completed\":false}}'\n",
      "b'{\"data\":{\"userId\":1,\"id\":1,\"title\":\"delectus aut autem\",\"completed\":false}}'\n",
      "b'{\"data\":{\"userId\":1,\"id\":1,\"title\":\"delectus aut autem\",\"completed\":false}}'\n",
      "b'{\"data\":{\"userId\":1,\"id\":1,\"title\":\"delectus aut autem\",\"completed\":false}}'\n",
      "b'{\"data\":{\"userId\":1,\"id\":1,\"title\":\"delectus aut autem\",\"completed\":false}}'\n",
      "b'{\"data\":{\"userId\":1,\"id\":1,\"title\":\"delectus aut autem\",\"completed\":false}}'\n",
      "b'{\"data\":{\"userId\":1,\"id\":1,\"title\":\"delectus aut autem\",\"completed\":false}}'\n",
      "b'{\"data\":{\"userId\":1,\"id\":1,\"title\":\"delectus aut autem\",\"completed\":false}}'\n",
      "b'{\"data\":{\"userId\":1,\"id\":1,\"title\":\"delectus aut autem\",\"completed\":false}}'\n",
      "b'{\"data\":{\"userId\":1,\"id\":1,\"title\":\"delectus aut autem\",\"completed\":false}}'\n",
      "b'{\"data\":{\"userId\":1,\"id\":1,\"title\":\"delectus aut autem\",\"completed\":false}}'\n",
      "b'{\"data\":{\"userId\":1,\"id\":1,\"title\":\"delectus aut autem\",\"completed\":false}}'\n",
      "b'{\"data\":{\"userId\":1,\"id\":1,\"title\":\"delectus aut autem\",\"completed\":false}}'\n",
      "b'{\"data\":{\"userId\":1,\"id\":1,\"title\":\"delectus aut autem\",\"completed\":false}}'\n",
      "b'{\"data\":{\"userId\":1,\"id\":1,\"title\":\"delectus aut autem\",\"completed\":false}}'\n",
      "b'{\"data\":{\"userId\":1,\"id\":1,\"title\":\"delectus aut autem\",\"completed\":false}}'\n",
      "b'{\"data\":{\"userId\":1,\"id\":1,\"title\":\"delectus aut autem\",\"completed\":false}}'\n",
      "b'{\"data\":{\"userId\":1,\"id\":1,\"title\":\"delectus aut autem\",\"completed\":false}}'\n",
      "b'{\"data\":{\"userId\":1,\"id\":1,\"title\":\"delectus aut autem\",\"completed\":false}}'\n",
      "b'{\"data\":{\"userId\":1,\"id\":1,\"title\":\"delectus aut autem\",\"completed\":false}}'\n",
      "b'{\"data\":{\"userId\":1,\"id\":1,\"title\":\"delectus aut autem\",\"completed\":false}}'\n",
      "b'{\"data\":{\"userId\":1,\"id\":1,\"title\":\"delectus aut autem\",\"completed\":false}}'\n",
      "b'{\"data\":{\"userId\":1,\"id\":1,\"title\":\"delectus aut autem\",\"completed\":false}}'\n",
      "b'{\"data\":{\"userId\":1,\"id\":1,\"title\":\"delectus aut autem\",\"completed\":false}}'\n",
      "b'{\"data\":{\"userId\":1,\"id\":1,\"title\":\"delectus aut autem\",\"completed\":false}}'\n",
      "b'{\"data\":{\"userId\":1,\"id\":1,\"title\":\"delectus aut autem\",\"completed\":false}}'\n",
      "b'{\"data\":{\"userId\":1,\"id\":1,\"title\":\"delectus aut autem\",\"completed\":false}}'\n",
      "b'{\"data\":{\"userId\":1,\"id\":1,\"title\":\"delectus aut autem\",\"completed\":false}}'\n",
      "b'{\"data\":{\"userId\":1,\"id\":1,\"title\":\"delectus aut autem\",\"completed\":false}}'\n",
      "b'{\"data\":{\"userId\":1,\"id\":1,\"title\":\"delectus aut autem\",\"completed\":false}}'\n",
      "b'{\"data\":{\"userId\":1,\"id\":1,\"title\":\"delectus aut autem\",\"completed\":false}}'\n",
      "b'{\"data\":{\"userId\":1,\"id\":1,\"title\":\"delectus aut autem\",\"completed\":false}}'\n",
      "b'{\"data\":{\"userId\":1,\"id\":1,\"title\":\"delectus aut autem\",\"completed\":false}}'\n",
      "b'{\"data\":{\"userId\":1,\"id\":1,\"title\":\"delectus aut autem\",\"completed\":false}}'\n",
      "b'{\"data\":{\"userId\":1,\"id\":1,\"title\":\"delectus aut autem\",\"completed\":false}}'\n",
      "b'{\"data\":{\"userId\":1,\"id\":1,\"title\":\"delectus aut autem\",\"completed\":false}}'\n",
      "b'{\"data\":{\"userId\":1,\"id\":1,\"title\":\"delectus aut autem\",\"completed\":false}}'\n",
      "b'{\"data\":{\"userId\":1,\"id\":1,\"title\":\"delectus aut autem\",\"completed\":false}}'\n",
      "b'{\"data\":{\"userId\":1,\"id\":1,\"title\":\"delectus aut autem\",\"completed\":false}}'\n",
      "b'{\"data\":{\"userId\":1,\"id\":1,\"title\":\"delectus aut autem\",\"completed\":false}}'\n",
      "b'{\"data\":{\"userId\":1,\"id\":1,\"title\":\"delectus aut autem\",\"completed\":false}}'\n",
      "b'{\"data\":{\"userId\":1,\"id\":1,\"title\":\"delectus aut autem\",\"completed\":false}}'\n",
      "b'{\"data\":{\"userId\":1,\"id\":1,\"title\":\"delectus aut autem\",\"completed\":false}}'\n",
      "b'{\"data\":{\"userId\":1,\"id\":1,\"title\":\"delectus aut autem\",\"completed\":false}}'\n",
      "b'{\"data\":{\"userId\":1,\"id\":1,\"title\":\"delectus aut autem\",\"completed\":false}}'\n",
      "b'{\"data\":{\"userId\":1,\"id\":1,\"title\":\"delectus aut autem\",\"completed\":false}}'\n",
      "1.22 s ± 4.95 ms per loop (mean ± std. dev. of 2 runs, 4 loops each)\n"
     ]
    }
   ],
   "source": [
    "%%timeit -r 2 -n 4\n",
    "import requests\n",
    "\n",
    "\n",
    "for i in range(10):\n",
    "    response = requests.get(\"http://localhost:8004/api/v1/data\")\n",
    "    print(response.content)"
   ]
  },
  {
   "cell_type": "code",
   "execution_count": null,
   "id": "9b72e11e",
   "metadata": {},
   "outputs": [],
   "source": [
    "!kill $(ps aux | grep \"python async_example\" | grep -v grep | awk '{print $2}')"
   ]
  },
  {
   "cell_type": "markdown",
   "id": "435c0cf4",
   "metadata": {},
   "source": [
    "### Websockets\n",
    "\n",
    "I won't cover this as this notebook is largely about the REST aspects of FastAPI and websockets are not part of RESTful architecture. That being said, websockets in FastAPI are incredibly interesting topic and one I recommend everyone read up on (see [docs](https://fastapi.tiangolo.com/advanced/websockets/))."
   ]
  },
  {
   "cell_type": "markdown",
   "id": "c5da6c04",
   "metadata": {},
   "source": [
    "## Testing and Deployments"
   ]
  },
  {
   "cell_type": "markdown",
   "id": "c2bf575b",
   "metadata": {},
   "source": [
    "### Testing\n",
    "\n",
    "FastAPI makes unit testing incredibly easy with the built in `TestClient` module. For instance, if we wanted to unit test our animal example [above](#Example-Two)\n",
    "\n",
    "```python\n",
    "import pytest\n",
    "from fastapi.testclient import TestClient\n",
    "from example_two import app, get_db, create_db, Base, Engine, Animal\n",
    "from sqlalchemy.orm import sessionmaker\n",
    "from sqlalchemy.pool import StaticPool\n",
    "from sqlalchemy import create_engine\n",
    "\n",
    "\n",
    "@pytest.fixture\n",
    "def client():\n",
    "    SQLALCHEMY_DATABASE_URL = \"sqlite:///:memory:\"\n",
    "    engine = create_engine(\n",
    "        SQLALCHEMY_DATABASE_URL, echo=True, connect_args={\"check_same_thread\": False}, poolclass=StaticPool\n",
    "    )\n",
    "    TestingSessionLocal = sessionmaker(autocommit=False, autoflush=False, bind=engine)\n",
    "    Base.metadata.create_all(bind=engine)\n",
    "    def override_get_db():\n",
    "        try:\n",
    "            db = TestingSessionLocal()\n",
    "            yield db\n",
    "        finally:\n",
    "            db.close()\n",
    "    app.dependency_overrides[get_db] = override_get_db\n",
    "    client = TestClient(app)\n",
    "    return client\n",
    "\n",
    "\n",
    "def test_read_root(client):\n",
    "    response = client.get(\"/\")\n",
    "    assert response.status_code == 200\n",
    "    assert response.json() == {\"message\": \"Hello, FastAPI!\"}\n",
    "\n",
    "\n",
    "def test_insert_animal(client):\n",
    "    animal = {\n",
    "        \"name\": \"Doggo\",\n",
    "        \"species\": \"Dog\",\n",
    "        \"age\": 5\n",
    "    }\n",
    "    response = client.post(\"/api/v1/animals\", json=animal)\n",
    "    assert response.status_code == 200\n",
    "    assert response.json()[\"animal\"][\"name\"] == \"Doggo\"\n",
    "\n",
    "\n",
    "def test_read_animals(client):\n",
    "    animal = {\n",
    "        \"name\": \"Doggo\",\n",
    "        \"species\": \"Dog\",\n",
    "        \"age\": 5\n",
    "    }\n",
    "    response = client.post(\"/api/v1/animals\", json=animal)\n",
    "    response = client.get(\"/api/v1/animals\")\n",
    "    assert response.status_code == 200\n",
    "    assert len(response.json()[\"animals\"]) > 0\n",
    "\n",
    "\n",
    "def test_read_animal(client):\n",
    "    animal_id = 1\n",
    "    response = client.get(f\"/api/v1/animals/{animal_id}\")\n",
    "    assert response.status_code == 400\n",
    "    assert response.json()[\"detail\"] == f\"Could not find animal with id: {animal_id}\"\n",
    "\n",
    "\n",
    "def test_update_animal(client):\n",
    "    animal_id = 1\n",
    "    updated_animal = {\n",
    "        \"name\": \"Updated Doggo\",\n",
    "        \"species\": \"Dog\",\n",
    "        \"age\": 6\n",
    "    }\n",
    "    response = client.put(f\"/api/v1/animals/{animal_id}\", json=updated_animal)\n",
    "    print(response.json())\n",
    "    assert response.status_code == 400\n",
    "    assert response.json()[\"detail\"] == f\"Could not find animal with id: {animal_id}\"\n",
    "\n",
    "\n",
    "def test_update_animal_name(client):\n",
    "    animal_id = 1\n",
    "    updated_animal = {\n",
    "        \"name\": \"New Name\",\n",
    "    }\n",
    "    response = client.patch(f\"/api/v1/animals/{animal_id}\", json=updated_animal)\n",
    "    assert response.status_code == 400\n",
    "    assert response.json()[\"detail\"] == f\"Could not find animal with id: {animal_id}\"\n",
    "\n",
    "\n",
    "def test_delete_item(client):\n",
    "    animal_id = 1\n",
    "    response = client.delete(f\"/api/v1/animals/{animal_id}\")\n",
    "    assert response.status_code == 400\n",
    "    assert response.json()[\"detail\"] == f\"Could not find animal with id: {animal_id}\"\n",
    "```"
   ]
  },
  {
   "cell_type": "code",
   "execution_count": 38,
   "id": "ac12902e",
   "metadata": {},
   "outputs": [
    {
     "name": "stdout",
     "output_type": "stream",
     "text": [
      "\u001b[1m============================= test session starts ==============================\u001b[0m\n",
      "platform darwin -- Python 3.10.9, pytest-7.2.2, pluggy-1.0.0 -- /Users/chasehudson/miniforge3/envs/code-dojo-10/bin/python3.10\n",
      "cachedir: .pytest_cache\n",
      "rootdir: /Users/chasehudson/code/code-dojo/modules/06_rest_api_fastapi\n",
      "plugins: anyio-3.6.2\n",
      "\u001b[1mcollecting ... \u001b[0mcollected 7 items\n",
      "\n",
      "test_example.py::test_read_root \u001b[32mPASSED\u001b[0m\u001b[33m                                   [ 14%]\u001b[0m\n",
      "test_example.py::test_insert_animal \u001b[32mPASSED\u001b[0m\u001b[33m                               [ 28%]\u001b[0m\n",
      "test_example.py::test_read_animals \u001b[32mPASSED\u001b[0m\u001b[33m                                [ 42%]\u001b[0m\n",
      "test_example.py::test_read_animal \u001b[32mPASSED\u001b[0m\u001b[33m                                 [ 57%]\u001b[0m\n",
      "test_example.py::test_update_animal \u001b[32mPASSED\u001b[0m\u001b[33m                               [ 71%]\u001b[0m\n",
      "test_example.py::test_update_animal_name \u001b[32mPASSED\u001b[0m\u001b[33m                          [ 85%]\u001b[0m\n",
      "test_example.py::test_delete_item \u001b[32mPASSED\u001b[0m\u001b[33m                                 [100%]\u001b[0m\n",
      "\n",
      "\u001b[33m=============================== warnings summary ===============================\u001b[0m\n",
      "example_two.py:10\n",
      "  /Users/chasehudson/code/code-dojo/modules/06_rest_api_fastapi/example_two.py:10: MovedIn20Warning: The ``declarative_base()`` function is now available as sqlalchemy.orm.declarative_base(). (deprecated since: 2.0) (Background on SQLAlchemy 2.0 at: https://sqlalche.me/e/b8d9)\n",
      "    Base = declarative_base()\n",
      "\n",
      "-- Docs: https://docs.pytest.org/en/stable/how-to/capture-warnings.html\n",
      "\u001b[33m========================= \u001b[32m7 passed\u001b[0m, \u001b[33m\u001b[1m1 warning\u001b[0m\u001b[33m in 0.31s\u001b[0m\u001b[33m =========================\u001b[0m\n"
     ]
    },
    {
     "data": {
      "text/plain": [
       "0"
      ]
     },
     "execution_count": 38,
     "metadata": {},
     "output_type": "execute_result"
    }
   ],
   "source": [
    "!pytest test_example.py -v"
   ]
  },
  {
   "cell_type": "markdown",
   "id": "4d759078",
   "metadata": {},
   "source": [
    "### Deployment\n",
    "\n",
    "```docker\n",
    "FROM python:3.9\n",
    "\n",
    "WORKDIR /app\n",
    "\n",
    "COPY requirements.txt .\n",
    "RUN pip install --no-cache-dir -r requirements.txt\n",
    "\n",
    "COPY . .\n",
    "\n",
    "CMD [\"uvicorn\", \"main:app\", \"--host\", \"0.0.0.0\", \"--port\", \"8000\"]\n",
    "```"
   ]
  },
  {
   "cell_type": "markdown",
   "id": "cf350ce5",
   "metadata": {},
   "source": [
    "## Resources\n",
    "\n",
    "* https://www.ics.uci.edu/~fielding/pubs/dissertation/rest_arch_style.htm\n",
    "* https://betterprogramming.pub/fastapi-best-practices-1f0deeba4fce"
   ]
  }
 ],
 "metadata": {
  "kernelspec": {
   "display_name": "Python 3 (ipykernel)",
   "language": "python",
   "name": "python3"
  },
  "language_info": {
   "codemirror_mode": {
    "name": "ipython",
    "version": 3
   },
   "file_extension": ".py",
   "mimetype": "text/x-python",
   "name": "python",
   "nbconvert_exporter": "python",
   "pygments_lexer": "ipython3",
   "version": "3.10.9"
  },
  "varInspector": {
   "cols": {
    "lenName": 16,
    "lenType": 16,
    "lenVar": 40
   },
   "kernels_config": {
    "python": {
     "delete_cmd_postfix": "",
     "delete_cmd_prefix": "del ",
     "library": "var_list.py",
     "varRefreshCmd": "print(var_dic_list())"
    },
    "r": {
     "delete_cmd_postfix": ") ",
     "delete_cmd_prefix": "rm(",
     "library": "var_list.r",
     "varRefreshCmd": "cat(var_dic_list()) "
    }
   },
   "types_to_exclude": [
    "module",
    "function",
    "builtin_function_or_method",
    "instance",
    "_Feature"
   ],
   "window_display": false
  }
 },
 "nbformat": 4,
 "nbformat_minor": 5
}
